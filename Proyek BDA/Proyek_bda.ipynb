{
  "cells": [
    {
      "cell_type": "code",
      "execution_count": 1,
      "metadata": {
        "id": "AGKCx8NAPfwP"
      },
      "outputs": [],
      "source": [
        "import pandas as pd\n",
        "import numpy as np\n",
        "import seaborn as sns\n",
        "import matplotlib.pyplot as plt\n",
        "from google.colab import files"
      ]
    },
    {
      "cell_type": "code",
      "execution_count": 2,
      "metadata": {
        "id": "MO4FIFO6yLvI"
      },
      "outputs": [],
      "source": [
        "!apt-get install openjdk-8-jdk-headless -qq > /dev/null\n",
        "!wget -q https://dlcdn.apache.org/spark/spark-3.2.1/spark-3.2.1-bin-hadoop3.2.tgz\n",
        "!tar xf spark-3.2.1-bin-hadoop3.2.tgz\n",
        "import os\n",
        "os.environ[\"JAVA_HOME\"] = \"/usr/lib/jvm/java-8-openjdk-amd64\"\n",
        "os.environ[\"SPARK_HOME\"] = \"spark-3.2.1-bin-hadoop3.2\"\n",
        "!pip install -q findspark"
      ]
    },
    {
      "cell_type": "code",
      "execution_count": 3,
      "metadata": {
        "colab": {
          "base_uri": "https://localhost:8080/",
          "height": 36
        },
        "id": "4NnQJ0lMyVwH",
        "outputId": "5f9de5aa-3aac-486a-98c0-5ddc019c13d4"
      },
      "outputs": [
        {
          "output_type": "execute_result",
          "data": {
            "text/plain": [
              "'spark-3.2.1-bin-hadoop3.2'"
            ],
            "application/vnd.google.colaboratory.intrinsic+json": {
              "type": "string"
            }
          },
          "metadata": {},
          "execution_count": 3
        }
      ],
      "source": [
        "# checking spark documentation\n",
        "\n",
        "import findspark\n",
        "findspark.init()\n",
        "findspark.find()"
      ]
    },
    {
      "cell_type": "code",
      "execution_count": 4,
      "metadata": {
        "id": "fks-t_ZD09ut"
      },
      "outputs": [],
      "source": [
        "#create session\n",
        "from pyspark.sql import SparkSession\n",
        "\n",
        "spark = SparkSession.builder.appName(\"Proyek_Bda\").getOrCreate()"
      ]
    },
    {
      "cell_type": "code",
      "execution_count": 5,
      "metadata": {
        "colab": {
          "base_uri": "https://localhost:8080/",
          "height": 74,
          "resources": {
            "http://localhost:8080/nbextensions/google.colab/files.js": {
              "data": "Ly8gQ29weXJpZ2h0IDIwMTcgR29vZ2xlIExMQwovLwovLyBMaWNlbnNlZCB1bmRlciB0aGUgQXBhY2hlIExpY2Vuc2UsIFZlcnNpb24gMi4wICh0aGUgIkxpY2Vuc2UiKTsKLy8geW91IG1heSBub3QgdXNlIHRoaXMgZmlsZSBleGNlcHQgaW4gY29tcGxpYW5jZSB3aXRoIHRoZSBMaWNlbnNlLgovLyBZb3UgbWF5IG9idGFpbiBhIGNvcHkgb2YgdGhlIExpY2Vuc2UgYXQKLy8KLy8gICAgICBodHRwOi8vd3d3LmFwYWNoZS5vcmcvbGljZW5zZXMvTElDRU5TRS0yLjAKLy8KLy8gVW5sZXNzIHJlcXVpcmVkIGJ5IGFwcGxpY2FibGUgbGF3IG9yIGFncmVlZCB0byBpbiB3cml0aW5nLCBzb2Z0d2FyZQovLyBkaXN0cmlidXRlZCB1bmRlciB0aGUgTGljZW5zZSBpcyBkaXN0cmlidXRlZCBvbiBhbiAiQVMgSVMiIEJBU0lTLAovLyBXSVRIT1VUIFdBUlJBTlRJRVMgT1IgQ09ORElUSU9OUyBPRiBBTlkgS0lORCwgZWl0aGVyIGV4cHJlc3Mgb3IgaW1wbGllZC4KLy8gU2VlIHRoZSBMaWNlbnNlIGZvciB0aGUgc3BlY2lmaWMgbGFuZ3VhZ2UgZ292ZXJuaW5nIHBlcm1pc3Npb25zIGFuZAovLyBsaW1pdGF0aW9ucyB1bmRlciB0aGUgTGljZW5zZS4KCi8qKgogKiBAZmlsZW92ZXJ2aWV3IEhlbHBlcnMgZm9yIGdvb2dsZS5jb2xhYiBQeXRob24gbW9kdWxlLgogKi8KKGZ1bmN0aW9uKHNjb3BlKSB7CmZ1bmN0aW9uIHNwYW4odGV4dCwgc3R5bGVBdHRyaWJ1dGVzID0ge30pIHsKICBjb25zdCBlbGVtZW50ID0gZG9jdW1lbnQuY3JlYXRlRWxlbWVudCgnc3BhbicpOwogIGVsZW1lbnQudGV4dENvbnRlbnQgPSB0ZXh0OwogIGZvciAoY29uc3Qga2V5IG9mIE9iamVjdC5rZXlzKHN0eWxlQXR0cmlidXRlcykpIHsKICAgIGVsZW1lbnQuc3R5bGVba2V5XSA9IHN0eWxlQXR0cmlidXRlc1trZXldOwogIH0KICByZXR1cm4gZWxlbWVudDsKfQoKLy8gTWF4IG51bWJlciBvZiBieXRlcyB3aGljaCB3aWxsIGJlIHVwbG9hZGVkIGF0IGEgdGltZS4KY29uc3QgTUFYX1BBWUxPQURfU0laRSA9IDEwMCAqIDEwMjQ7CgpmdW5jdGlvbiBfdXBsb2FkRmlsZXMoaW5wdXRJZCwgb3V0cHV0SWQpIHsKICBjb25zdCBzdGVwcyA9IHVwbG9hZEZpbGVzU3RlcChpbnB1dElkLCBvdXRwdXRJZCk7CiAgY29uc3Qgb3V0cHV0RWxlbWVudCA9IGRvY3VtZW50LmdldEVsZW1lbnRCeUlkKG91dHB1dElkKTsKICAvLyBDYWNoZSBzdGVwcyBvbiB0aGUgb3V0cHV0RWxlbWVudCB0byBtYWtlIGl0IGF2YWlsYWJsZSBmb3IgdGhlIG5leHQgY2FsbAogIC8vIHRvIHVwbG9hZEZpbGVzQ29udGludWUgZnJvbSBQeXRob24uCiAgb3V0cHV0RWxlbWVudC5zdGVwcyA9IHN0ZXBzOwoKICByZXR1cm4gX3VwbG9hZEZpbGVzQ29udGludWUob3V0cHV0SWQpOwp9CgovLyBUaGlzIGlzIHJvdWdobHkgYW4gYXN5bmMgZ2VuZXJhdG9yIChub3Qgc3VwcG9ydGVkIGluIHRoZSBicm93c2VyIHlldCksCi8vIHdoZXJlIHRoZXJlIGFyZSBtdWx0aXBsZSBhc3luY2hyb25vdXMgc3RlcHMgYW5kIHRoZSBQeXRob24gc2lkZSBpcyBnb2luZwovLyB0byBwb2xsIGZvciBjb21wbGV0aW9uIG9mIGVhY2ggc3RlcC4KLy8gVGhpcyB1c2VzIGEgUHJvbWlzZSB0byBibG9jayB0aGUgcHl0aG9uIHNpZGUgb24gY29tcGxldGlvbiBvZiBlYWNoIHN0ZXAsCi8vIHRoZW4gcGFzc2VzIHRoZSByZXN1bHQgb2YgdGhlIHByZXZpb3VzIHN0ZXAgYXMgdGhlIGlucHV0IHRvIHRoZSBuZXh0IHN0ZXAuCmZ1bmN0aW9uIF91cGxvYWRGaWxlc0NvbnRpbnVlKG91dHB1dElkKSB7CiAgY29uc3Qgb3V0cHV0RWxlbWVudCA9IGRvY3VtZW50LmdldEVsZW1lbnRCeUlkKG91dHB1dElkKTsKICBjb25zdCBzdGVwcyA9IG91dHB1dEVsZW1lbnQuc3RlcHM7CgogIGNvbnN0IG5leHQgPSBzdGVwcy5uZXh0KG91dHB1dEVsZW1lbnQubGFzdFByb21pc2VWYWx1ZSk7CiAgcmV0dXJuIFByb21pc2UucmVzb2x2ZShuZXh0LnZhbHVlLnByb21pc2UpLnRoZW4oKHZhbHVlKSA9PiB7CiAgICAvLyBDYWNoZSB0aGUgbGFzdCBwcm9taXNlIHZhbHVlIHRvIG1ha2UgaXQgYXZhaWxhYmxlIHRvIHRoZSBuZXh0CiAgICAvLyBzdGVwIG9mIHRoZSBnZW5lcmF0b3IuCiAgICBvdXRwdXRFbGVtZW50Lmxhc3RQcm9taXNlVmFsdWUgPSB2YWx1ZTsKICAgIHJldHVybiBuZXh0LnZhbHVlLnJlc3BvbnNlOwogIH0pOwp9CgovKioKICogR2VuZXJhdG9yIGZ1bmN0aW9uIHdoaWNoIGlzIGNhbGxlZCBiZXR3ZWVuIGVhY2ggYXN5bmMgc3RlcCBvZiB0aGUgdXBsb2FkCiAqIHByb2Nlc3MuCiAqIEBwYXJhbSB7c3RyaW5nfSBpbnB1dElkIEVsZW1lbnQgSUQgb2YgdGhlIGlucHV0IGZpbGUgcGlja2VyIGVsZW1lbnQuCiAqIEBwYXJhbSB7c3RyaW5nfSBvdXRwdXRJZCBFbGVtZW50IElEIG9mIHRoZSBvdXRwdXQgZGlzcGxheS4KICogQHJldHVybiB7IUl0ZXJhYmxlPCFPYmplY3Q+fSBJdGVyYWJsZSBvZiBuZXh0IHN0ZXBzLgogKi8KZnVuY3Rpb24qIHVwbG9hZEZpbGVzU3RlcChpbnB1dElkLCBvdXRwdXRJZCkgewogIGNvbnN0IGlucHV0RWxlbWVudCA9IGRvY3VtZW50LmdldEVsZW1lbnRCeUlkKGlucHV0SWQpOwogIGlucHV0RWxlbWVudC5kaXNhYmxlZCA9IGZhbHNlOwoKICBjb25zdCBvdXRwdXRFbGVtZW50ID0gZG9jdW1lbnQuZ2V0RWxlbWVudEJ5SWQob3V0cHV0SWQpOwogIG91dHB1dEVsZW1lbnQuaW5uZXJIVE1MID0gJyc7CgogIGNvbnN0IHBpY2tlZFByb21pc2UgPSBuZXcgUHJvbWlzZSgocmVzb2x2ZSkgPT4gewogICAgaW5wdXRFbGVtZW50LmFkZEV2ZW50TGlzdGVuZXIoJ2NoYW5nZScsIChlKSA9PiB7CiAgICAgIHJlc29sdmUoZS50YXJnZXQuZmlsZXMpOwogICAgfSk7CiAgfSk7CgogIGNvbnN0IGNhbmNlbCA9IGRvY3VtZW50LmNyZWF0ZUVsZW1lbnQoJ2J1dHRvbicpOwogIGlucHV0RWxlbWVudC5wYXJlbnRFbGVtZW50LmFwcGVuZENoaWxkKGNhbmNlbCk7CiAgY2FuY2VsLnRleHRDb250ZW50ID0gJ0NhbmNlbCB1cGxvYWQnOwogIGNvbnN0IGNhbmNlbFByb21pc2UgPSBuZXcgUHJvbWlzZSgocmVzb2x2ZSkgPT4gewogICAgY2FuY2VsLm9uY2xpY2sgPSAoKSA9PiB7CiAgICAgIHJlc29sdmUobnVsbCk7CiAgICB9OwogIH0pOwoKICAvLyBXYWl0IGZvciB0aGUgdXNlciB0byBwaWNrIHRoZSBmaWxlcy4KICBjb25zdCBmaWxlcyA9IHlpZWxkIHsKICAgIHByb21pc2U6IFByb21pc2UucmFjZShbcGlja2VkUHJvbWlzZSwgY2FuY2VsUHJvbWlzZV0pLAogICAgcmVzcG9uc2U6IHsKICAgICAgYWN0aW9uOiAnc3RhcnRpbmcnLAogICAgfQogIH07CgogIGNhbmNlbC5yZW1vdmUoKTsKCiAgLy8gRGlzYWJsZSB0aGUgaW5wdXQgZWxlbWVudCBzaW5jZSBmdXJ0aGVyIHBpY2tzIGFyZSBub3QgYWxsb3dlZC4KICBpbnB1dEVsZW1lbnQuZGlzYWJsZWQgPSB0cnVlOwoKICBpZiAoIWZpbGVzKSB7CiAgICByZXR1cm4gewogICAgICByZXNwb25zZTogewogICAgICAgIGFjdGlvbjogJ2NvbXBsZXRlJywKICAgICAgfQogICAgfTsKICB9CgogIGZvciAoY29uc3QgZmlsZSBvZiBmaWxlcykgewogICAgY29uc3QgbGkgPSBkb2N1bWVudC5jcmVhdGVFbGVtZW50KCdsaScpOwogICAgbGkuYXBwZW5kKHNwYW4oZmlsZS5uYW1lLCB7Zm9udFdlaWdodDogJ2JvbGQnfSkpOwogICAgbGkuYXBwZW5kKHNwYW4oCiAgICAgICAgYCgke2ZpbGUudHlwZSB8fCAnbi9hJ30pIC0gJHtmaWxlLnNpemV9IGJ5dGVzLCBgICsKICAgICAgICBgbGFzdCBtb2RpZmllZDogJHsKICAgICAgICAgICAgZmlsZS5sYXN0TW9kaWZpZWREYXRlID8gZmlsZS5sYXN0TW9kaWZpZWREYXRlLnRvTG9jYWxlRGF0ZVN0cmluZygpIDoKICAgICAgICAgICAgICAgICAgICAgICAgICAgICAgICAgICAgJ24vYSd9IC0gYCkpOwogICAgY29uc3QgcGVyY2VudCA9IHNwYW4oJzAlIGRvbmUnKTsKICAgIGxpLmFwcGVuZENoaWxkKHBlcmNlbnQpOwoKICAgIG91dHB1dEVsZW1lbnQuYXBwZW5kQ2hpbGQobGkpOwoKICAgIGNvbnN0IGZpbGVEYXRhUHJvbWlzZSA9IG5ldyBQcm9taXNlKChyZXNvbHZlKSA9PiB7CiAgICAgIGNvbnN0IHJlYWRlciA9IG5ldyBGaWxlUmVhZGVyKCk7CiAgICAgIHJlYWRlci5vbmxvYWQgPSAoZSkgPT4gewogICAgICAgIHJlc29sdmUoZS50YXJnZXQucmVzdWx0KTsKICAgICAgfTsKICAgICAgcmVhZGVyLnJlYWRBc0FycmF5QnVmZmVyKGZpbGUpOwogICAgfSk7CiAgICAvLyBXYWl0IGZvciB0aGUgZGF0YSB0byBiZSByZWFkeS4KICAgIGxldCBmaWxlRGF0YSA9IHlpZWxkIHsKICAgICAgcHJvbWlzZTogZmlsZURhdGFQcm9taXNlLAogICAgICByZXNwb25zZTogewogICAgICAgIGFjdGlvbjogJ2NvbnRpbnVlJywKICAgICAgfQogICAgfTsKCiAgICAvLyBVc2UgYSBjaHVua2VkIHNlbmRpbmcgdG8gYXZvaWQgbWVzc2FnZSBzaXplIGxpbWl0cy4gU2VlIGIvNjIxMTU2NjAuCiAgICBsZXQgcG9zaXRpb24gPSAwOwogICAgZG8gewogICAgICBjb25zdCBsZW5ndGggPSBNYXRoLm1pbihmaWxlRGF0YS5ieXRlTGVuZ3RoIC0gcG9zaXRpb24sIE1BWF9QQVlMT0FEX1NJWkUpOwogICAgICBjb25zdCBjaHVuayA9IG5ldyBVaW50OEFycmF5KGZpbGVEYXRhLCBwb3NpdGlvbiwgbGVuZ3RoKTsKICAgICAgcG9zaXRpb24gKz0gbGVuZ3RoOwoKICAgICAgY29uc3QgYmFzZTY0ID0gYnRvYShTdHJpbmcuZnJvbUNoYXJDb2RlLmFwcGx5KG51bGwsIGNodW5rKSk7CiAgICAgIHlpZWxkIHsKICAgICAgICByZXNwb25zZTogewogICAgICAgICAgYWN0aW9uOiAnYXBwZW5kJywKICAgICAgICAgIGZpbGU6IGZpbGUubmFtZSwKICAgICAgICAgIGRhdGE6IGJhc2U2NCwKICAgICAgICB9LAogICAgICB9OwoKICAgICAgbGV0IHBlcmNlbnREb25lID0gZmlsZURhdGEuYnl0ZUxlbmd0aCA9PT0gMCA/CiAgICAgICAgICAxMDAgOgogICAgICAgICAgTWF0aC5yb3VuZCgocG9zaXRpb24gLyBmaWxlRGF0YS5ieXRlTGVuZ3RoKSAqIDEwMCk7CiAgICAgIHBlcmNlbnQudGV4dENvbnRlbnQgPSBgJHtwZXJjZW50RG9uZX0lIGRvbmVgOwoKICAgIH0gd2hpbGUgKHBvc2l0aW9uIDwgZmlsZURhdGEuYnl0ZUxlbmd0aCk7CiAgfQoKICAvLyBBbGwgZG9uZS4KICB5aWVsZCB7CiAgICByZXNwb25zZTogewogICAgICBhY3Rpb246ICdjb21wbGV0ZScsCiAgICB9CiAgfTsKfQoKc2NvcGUuZ29vZ2xlID0gc2NvcGUuZ29vZ2xlIHx8IHt9OwpzY29wZS5nb29nbGUuY29sYWIgPSBzY29wZS5nb29nbGUuY29sYWIgfHwge307CnNjb3BlLmdvb2dsZS5jb2xhYi5fZmlsZXMgPSB7CiAgX3VwbG9hZEZpbGVzLAogIF91cGxvYWRGaWxlc0NvbnRpbnVlLAp9Owp9KShzZWxmKTsK",
              "headers": [
                [
                  "content-type",
                  "application/javascript"
                ]
              ],
              "ok": true,
              "status": 200,
              "status_text": ""
            }
          }
        },
        "id": "O2yfXrXV0CGO",
        "outputId": "68824197-12b3-4f77-e4bd-a7d078bbffd2"
      },
      "outputs": [
        {
          "output_type": "display_data",
          "data": {
            "text/plain": [
              "<IPython.core.display.HTML object>"
            ],
            "text/html": [
              "\n",
              "     <input type=\"file\" id=\"files-70c2dc4c-2ef3-436a-aeaf-d8f047d097b3\" name=\"files[]\" multiple disabled\n",
              "        style=\"border:none\" />\n",
              "     <output id=\"result-70c2dc4c-2ef3-436a-aeaf-d8f047d097b3\">\n",
              "      Upload widget is only available when the cell has been executed in the\n",
              "      current browser session. Please rerun this cell to enable.\n",
              "      </output>\n",
              "      <script src=\"/nbextensions/google.colab/files.js\"></script> "
            ]
          },
          "metadata": {}
        },
        {
          "output_type": "stream",
          "name": "stdout",
          "text": [
            "Saving diabetes.csv to diabetes.csv\n"
          ]
        }
      ],
      "source": [
        "#upload file\n",
        "uploaded = files.upload()"
      ]
    },
    {
      "cell_type": "code",
      "execution_count": 7,
      "metadata": {
        "colab": {
          "base_uri": "https://localhost:8080/"
        },
        "id": "rLHZolVL42H5",
        "outputId": "56d3e8cf-9df2-46a7-9776-3e5f9b278778"
      },
      "outputs": [
        {
          "output_type": "stream",
          "name": "stdout",
          "text": [
            "root\n",
            " |-- Pregnancies: string (nullable = true)\n",
            " |-- Glucose: string (nullable = true)\n",
            " |-- BloodPressure: string (nullable = true)\n",
            " |-- SkinThickness: string (nullable = true)\n",
            " |-- Insulin: string (nullable = true)\n",
            " |-- BMI: string (nullable = true)\n",
            " |-- DiabetesPedigreeFunction: string (nullable = true)\n",
            " |-- Age: string (nullable = true)\n",
            " |-- Outcome: string (nullable = true)\n",
            "\n",
            "+-----------+-------+-------------+-------------+-------+----+------------------------+---+-------+\n",
            "|Pregnancies|Glucose|BloodPressure|SkinThickness|Insulin| BMI|DiabetesPedigreeFunction|Age|Outcome|\n",
            "+-----------+-------+-------------+-------------+-------+----+------------------------+---+-------+\n",
            "|          6|    148|           72|           35|      0|33.6|                   0.627| 50|      1|\n",
            "|          1|     85|           66|           29|      0|26.6|                   0.351| 31|      0|\n",
            "|          8|    183|           64|            0|      0|23.3|                   0.672| 32|      1|\n",
            "|          1|     89|           66|           23|     94|28.1|                   0.167| 21|      0|\n",
            "|          0|    137|           40|           35|    168|43.1|                   2.288| 33|      1|\n",
            "|          5|    116|           74|            0|      0|25.6|                   0.201| 30|      0|\n",
            "|          3|     78|           50|           32|     88|  31|                   0.248| 26|      1|\n",
            "|         10|    115|            0|            0|      0|35.3|                   0.134| 29|      0|\n",
            "|          2|    197|           70|           45|    543|30.5|                   0.158| 53|      1|\n",
            "|          8|    125|           96|            0|      0|   0|                   0.232| 54|      1|\n",
            "|          4|    110|           92|            0|      0|37.6|                   0.191| 30|      0|\n",
            "|         10|    168|           74|            0|      0|  38|                   0.537| 34|      1|\n",
            "|         10|    139|           80|            0|      0|27.1|                   1.441| 57|      0|\n",
            "|          1|    189|           60|           23|    846|30.1|                   0.398| 59|      1|\n",
            "|          5|    166|           72|           19|    175|25.8|                   0.587| 51|      1|\n",
            "|          7|    100|            0|            0|      0|  30|                   0.484| 32|      1|\n",
            "|          0|    118|           84|           47|    230|45.8|                   0.551| 31|      1|\n",
            "|          7|    107|           74|            0|      0|29.6|                   0.254| 31|      1|\n",
            "|          1|    103|           30|           38|     83|43.3|                   0.183| 33|      0|\n",
            "|          1|    115|           70|           30|     96|34.6|                   0.529| 32|      1|\n",
            "+-----------+-------+-------------+-------------+-------+----+------------------------+---+-------+\n",
            "only showing top 20 rows\n",
            "\n"
          ]
        }
      ],
      "source": [
        "#read csv and showing data type\n",
        "df = spark.read.csv('/content/diabetes.csv', header = True)\n",
        "df.printSchema()\n",
        "df.show()"
      ]
    },
    {
      "cell_type": "code",
      "execution_count": 8,
      "metadata": {
        "colab": {
          "base_uri": "https://localhost:8080/"
        },
        "id": "L29LU9anPA7M",
        "outputId": "29c6658a-aa26-460d-94b5-d20ddb4da52a"
      },
      "outputs": [
        {
          "output_type": "stream",
          "name": "stdout",
          "text": [
            "root\n",
            " |-- Pregnancies: integer (nullable = true)\n",
            " |-- Glucose: integer (nullable = true)\n",
            " |-- BloodPressure: integer (nullable = true)\n",
            " |-- SkinThickness: integer (nullable = true)\n",
            " |-- Insulin: integer (nullable = true)\n",
            " |-- BMI: double (nullable = true)\n",
            " |-- DiabetesPedigreeFunction: float (nullable = true)\n",
            " |-- Age: integer (nullable = true)\n",
            " |-- Outcome: integer (nullable = true)\n",
            "\n"
          ]
        }
      ],
      "source": [
        "# change string to int data type\n",
        "\n",
        "from pyspark.sql.functions import col\n",
        "from pyspark.sql.types import IntegerType,BooleanType,DateType\n",
        "\n",
        "\n",
        "df = df.withColumn(\"Pregnancies\",df.Pregnancies.cast('int'))\n",
        "df = df.withColumn(\"Glucose\",df.Glucose.cast('int'))\n",
        "df = df.withColumn(\"BloodPressure\",df.BloodPressure.cast('int'))\n",
        "df = df.withColumn(\"SkinThickness\",df.SkinThickness.cast('int'))\n",
        "df = df.withColumn(\"Insulin\",df.Insulin.cast('int'))\n",
        "df = df.withColumn(\"BMI\",df.BMI.cast('double'))\n",
        "df = df.withColumn(\"DiabetesPedigreeFunction\",df.DiabetesPedigreeFunction.cast('float'))\n",
        "df = df.withColumn(\"Age\",df.Age.cast('int'))\n",
        "df = df.withColumn(\"Outcome\",df.Outcome.cast('int'))\n",
        "\n",
        "\n",
        "df.printSchema()"
      ]
    },
    {
      "cell_type": "code",
      "execution_count": 10,
      "metadata": {
        "colab": {
          "base_uri": "https://localhost:8080/"
        },
        "id": "Ig3y4PVD0GaF",
        "outputId": "6520c080-cf04-4aea-d931-360da9a1b131"
      },
      "outputs": [
        {
          "output_type": "stream",
          "name": "stdout",
          "text": [
            "+-------+------------------+-----------------+------------------+------------------+\n",
            "|summary|       Pregnancies|          Glucose|               BMI|               Age|\n",
            "+-------+------------------+-----------------+------------------+------------------+\n",
            "|  count|               768|              768|               768|               768|\n",
            "|   mean|3.8450520833333335|     120.89453125|31.992578124999977|33.240885416666664|\n",
            "| stddev|  3.36957806269887|31.97261819513622| 7.884160320375441|11.760231540678689|\n",
            "|    min|                 0|                0|               0.0|                21|\n",
            "|    25%|                 1|               99|              27.3|                24|\n",
            "|    50%|                 3|              117|              32.0|                29|\n",
            "|    75%|                 6|              140|              36.6|                41|\n",
            "|    max|                17|              199|              67.1|                81|\n",
            "+-------+------------------+-----------------+------------------+------------------+\n",
            "\n"
          ]
        }
      ],
      "source": [
        "#look for the summary\n",
        "df['Pregnancies','Glucose','BMI','Age'].summary().show()"
      ]
    },
    {
      "cell_type": "code",
      "execution_count": 11,
      "metadata": {
        "colab": {
          "base_uri": "https://localhost:8080/",
          "height": 206
        },
        "id": "pZG0K0cP7ly0",
        "outputId": "a1def0cf-c467-46b6-f4c3-1a726e6c47f2"
      },
      "outputs": [
        {
          "output_type": "execute_result",
          "data": {
            "text/plain": [
              "   Pregnancies  Glucose  BloodPressure  SkinThickness  Insulin   BMI  \\\n",
              "0            6      148             72             35        0  33.6   \n",
              "1            1       85             66             29        0  26.6   \n",
              "2            8      183             64              0        0  23.3   \n",
              "3            1       89             66             23       94  28.1   \n",
              "4            0      137             40             35      168  43.1   \n",
              "\n",
              "   DiabetesPedigreeFunction  Age  Outcome  \n",
              "0                     0.627   50        1  \n",
              "1                     0.351   31        0  \n",
              "2                     0.672   32        1  \n",
              "3                     0.167   21        0  \n",
              "4                     2.288   33        1  "
            ],
            "text/html": [
              "\n",
              "  <div id=\"df-b6890897-f6ef-4043-9ae8-c59356b76237\">\n",
              "    <div class=\"colab-df-container\">\n",
              "      <div>\n",
              "<style scoped>\n",
              "    .dataframe tbody tr th:only-of-type {\n",
              "        vertical-align: middle;\n",
              "    }\n",
              "\n",
              "    .dataframe tbody tr th {\n",
              "        vertical-align: top;\n",
              "    }\n",
              "\n",
              "    .dataframe thead th {\n",
              "        text-align: right;\n",
              "    }\n",
              "</style>\n",
              "<table border=\"1\" class=\"dataframe\">\n",
              "  <thead>\n",
              "    <tr style=\"text-align: right;\">\n",
              "      <th></th>\n",
              "      <th>Pregnancies</th>\n",
              "      <th>Glucose</th>\n",
              "      <th>BloodPressure</th>\n",
              "      <th>SkinThickness</th>\n",
              "      <th>Insulin</th>\n",
              "      <th>BMI</th>\n",
              "      <th>DiabetesPedigreeFunction</th>\n",
              "      <th>Age</th>\n",
              "      <th>Outcome</th>\n",
              "    </tr>\n",
              "  </thead>\n",
              "  <tbody>\n",
              "    <tr>\n",
              "      <th>0</th>\n",
              "      <td>6</td>\n",
              "      <td>148</td>\n",
              "      <td>72</td>\n",
              "      <td>35</td>\n",
              "      <td>0</td>\n",
              "      <td>33.6</td>\n",
              "      <td>0.627</td>\n",
              "      <td>50</td>\n",
              "      <td>1</td>\n",
              "    </tr>\n",
              "    <tr>\n",
              "      <th>1</th>\n",
              "      <td>1</td>\n",
              "      <td>85</td>\n",
              "      <td>66</td>\n",
              "      <td>29</td>\n",
              "      <td>0</td>\n",
              "      <td>26.6</td>\n",
              "      <td>0.351</td>\n",
              "      <td>31</td>\n",
              "      <td>0</td>\n",
              "    </tr>\n",
              "    <tr>\n",
              "      <th>2</th>\n",
              "      <td>8</td>\n",
              "      <td>183</td>\n",
              "      <td>64</td>\n",
              "      <td>0</td>\n",
              "      <td>0</td>\n",
              "      <td>23.3</td>\n",
              "      <td>0.672</td>\n",
              "      <td>32</td>\n",
              "      <td>1</td>\n",
              "    </tr>\n",
              "    <tr>\n",
              "      <th>3</th>\n",
              "      <td>1</td>\n",
              "      <td>89</td>\n",
              "      <td>66</td>\n",
              "      <td>23</td>\n",
              "      <td>94</td>\n",
              "      <td>28.1</td>\n",
              "      <td>0.167</td>\n",
              "      <td>21</td>\n",
              "      <td>0</td>\n",
              "    </tr>\n",
              "    <tr>\n",
              "      <th>4</th>\n",
              "      <td>0</td>\n",
              "      <td>137</td>\n",
              "      <td>40</td>\n",
              "      <td>35</td>\n",
              "      <td>168</td>\n",
              "      <td>43.1</td>\n",
              "      <td>2.288</td>\n",
              "      <td>33</td>\n",
              "      <td>1</td>\n",
              "    </tr>\n",
              "  </tbody>\n",
              "</table>\n",
              "</div>\n",
              "      <button class=\"colab-df-convert\" onclick=\"convertToInteractive('df-b6890897-f6ef-4043-9ae8-c59356b76237')\"\n",
              "              title=\"Convert this dataframe to an interactive table.\"\n",
              "              style=\"display:none;\">\n",
              "        \n",
              "  <svg xmlns=\"http://www.w3.org/2000/svg\" height=\"24px\"viewBox=\"0 0 24 24\"\n",
              "       width=\"24px\">\n",
              "    <path d=\"M0 0h24v24H0V0z\" fill=\"none\"/>\n",
              "    <path d=\"M18.56 5.44l.94 2.06.94-2.06 2.06-.94-2.06-.94-.94-2.06-.94 2.06-2.06.94zm-11 1L8.5 8.5l.94-2.06 2.06-.94-2.06-.94L8.5 2.5l-.94 2.06-2.06.94zm10 10l.94 2.06.94-2.06 2.06-.94-2.06-.94-.94-2.06-.94 2.06-2.06.94z\"/><path d=\"M17.41 7.96l-1.37-1.37c-.4-.4-.92-.59-1.43-.59-.52 0-1.04.2-1.43.59L10.3 9.45l-7.72 7.72c-.78.78-.78 2.05 0 2.83L4 21.41c.39.39.9.59 1.41.59.51 0 1.02-.2 1.41-.59l7.78-7.78 2.81-2.81c.8-.78.8-2.07 0-2.86zM5.41 20L4 18.59l7.72-7.72 1.47 1.35L5.41 20z\"/>\n",
              "  </svg>\n",
              "      </button>\n",
              "      \n",
              "  <style>\n",
              "    .colab-df-container {\n",
              "      display:flex;\n",
              "      flex-wrap:wrap;\n",
              "      gap: 12px;\n",
              "    }\n",
              "\n",
              "    .colab-df-convert {\n",
              "      background-color: #E8F0FE;\n",
              "      border: none;\n",
              "      border-radius: 50%;\n",
              "      cursor: pointer;\n",
              "      display: none;\n",
              "      fill: #1967D2;\n",
              "      height: 32px;\n",
              "      padding: 0 0 0 0;\n",
              "      width: 32px;\n",
              "    }\n",
              "\n",
              "    .colab-df-convert:hover {\n",
              "      background-color: #E2EBFA;\n",
              "      box-shadow: 0px 1px 2px rgba(60, 64, 67, 0.3), 0px 1px 3px 1px rgba(60, 64, 67, 0.15);\n",
              "      fill: #174EA6;\n",
              "    }\n",
              "\n",
              "    [theme=dark] .colab-df-convert {\n",
              "      background-color: #3B4455;\n",
              "      fill: #D2E3FC;\n",
              "    }\n",
              "\n",
              "    [theme=dark] .colab-df-convert:hover {\n",
              "      background-color: #434B5C;\n",
              "      box-shadow: 0px 1px 3px 1px rgba(0, 0, 0, 0.15);\n",
              "      filter: drop-shadow(0px 1px 2px rgba(0, 0, 0, 0.3));\n",
              "      fill: #FFFFFF;\n",
              "    }\n",
              "  </style>\n",
              "\n",
              "      <script>\n",
              "        const buttonEl =\n",
              "          document.querySelector('#df-b6890897-f6ef-4043-9ae8-c59356b76237 button.colab-df-convert');\n",
              "        buttonEl.style.display =\n",
              "          google.colab.kernel.accessAllowed ? 'block' : 'none';\n",
              "\n",
              "        async function convertToInteractive(key) {\n",
              "          const element = document.querySelector('#df-b6890897-f6ef-4043-9ae8-c59356b76237');\n",
              "          const dataTable =\n",
              "            await google.colab.kernel.invokeFunction('convertToInteractive',\n",
              "                                                     [key], {});\n",
              "          if (!dataTable) return;\n",
              "\n",
              "          const docLinkHtml = 'Like what you see? Visit the ' +\n",
              "            '<a target=\"_blank\" href=https://colab.research.google.com/notebooks/data_table.ipynb>data table notebook</a>'\n",
              "            + ' to learn more about interactive tables.';\n",
              "          element.innerHTML = '';\n",
              "          dataTable['output_type'] = 'display_data';\n",
              "          await google.colab.output.renderOutput(dataTable, element);\n",
              "          const docLink = document.createElement('div');\n",
              "          docLink.innerHTML = docLinkHtml;\n",
              "          element.appendChild(docLink);\n",
              "        }\n",
              "      </script>\n",
              "    </div>\n",
              "  </div>\n",
              "  "
            ]
          },
          "metadata": {},
          "execution_count": 11
        }
      ],
      "source": [
        "# change pyspark dataframe to pandas dataframe\n",
        "# need pandas plot bcs pyspark doesnt have any plot func\n",
        "\n",
        "pandas_df = df.toPandas()\n",
        "\n",
        "pandas_df.head()"
      ]
    },
    {
      "cell_type": "code",
      "execution_count": 12,
      "metadata": {
        "colab": {
          "base_uri": "https://localhost:8080/",
          "height": 415
        },
        "id": "t8X4alsIY-Of",
        "outputId": "aaab2dc3-3166-4635-ddef-02edf052b790"
      },
      "outputs": [
        {
          "output_type": "stream",
          "name": "stdout",
          "text": [
            "+-------+-----+\n",
            "|Outcome|count|\n",
            "+-------+-----+\n",
            "|      1|  268|\n",
            "|      0|  500|\n",
            "+-------+-----+\n",
            "\n"
          ]
        },
        {
          "output_type": "execute_result",
          "data": {
            "text/plain": [
              "<matplotlib.axes._subplots.AxesSubplot at 0x7f450a6ef8d0>"
            ]
          },
          "metadata": {},
          "execution_count": 12
        },
        {
          "output_type": "display_data",
          "data": {
            "text/plain": [
              "<Figure size 432x288 with 1 Axes>"
            ],
            "image/png": "[encoded data removed]"
          },
          "metadata": {
            "needs_background": "light"
          }
        }
      ],
      "source": [
        "#showing diabetic and non diabetic in a bar chart\n",
        "diabet = df.groupBy('Outcome').count()\n",
        "diabet.show()\n",
        "pandas_df.value_counts('Outcome').plot(kind = 'bar')"
      ]
    },
    {
      "cell_type": "code",
      "source": [
        "# showing correlations between columns\n",
        "corr = pandas_df.corr()\n",
        "print(corr)"
      ],
      "metadata": {
        "colab": {
          "base_uri": "https://localhost:8080/"
        },
        "id": "1dDPif1BU8aU",
        "outputId": "847fe5e0-67c1-4ed5-8269-5e9f771335e4"
      },
      "execution_count": 13,
      "outputs": [
        {
          "output_type": "stream",
          "name": "stdout",
          "text": [
            "                          Pregnancies   Glucose  BloodPressure  SkinThickness  \\\n",
            "Pregnancies                  1.000000  0.129459       0.141282      -0.081672   \n",
            "Glucose                      0.129459  1.000000       0.152590       0.057328   \n",
            "BloodPressure                0.141282  0.152590       1.000000       0.207371   \n",
            "SkinThickness               -0.081672  0.057328       0.207371       1.000000   \n",
            "Insulin                     -0.073535  0.331357       0.088933       0.436783   \n",
            "BMI                          0.017683  0.221071       0.281805       0.392573   \n",
            "DiabetesPedigreeFunction    -0.033523  0.137337       0.041265       0.183928   \n",
            "Age                          0.544341  0.263514       0.239528      -0.113970   \n",
            "Outcome                      0.221898  0.466581       0.065068       0.074752   \n",
            "\n",
            "                           Insulin       BMI  DiabetesPedigreeFunction  \\\n",
            "Pregnancies              -0.073535  0.017683                 -0.033523   \n",
            "Glucose                   0.331357  0.221071                  0.137337   \n",
            "BloodPressure             0.088933  0.281805                  0.041265   \n",
            "SkinThickness             0.436783  0.392573                  0.183928   \n",
            "Insulin                   1.000000  0.197859                  0.185071   \n",
            "BMI                       0.197859  1.000000                  0.140647   \n",
            "DiabetesPedigreeFunction  0.185071  0.140647                  1.000000   \n",
            "Age                      -0.042163  0.036242                  0.033561   \n",
            "Outcome                   0.130548  0.292695                  0.173844   \n",
            "\n",
            "                               Age   Outcome  \n",
            "Pregnancies               0.544341  0.221898  \n",
            "Glucose                   0.263514  0.466581  \n",
            "BloodPressure             0.239528  0.065068  \n",
            "SkinThickness            -0.113970  0.074752  \n",
            "Insulin                  -0.042163  0.130548  \n",
            "BMI                       0.036242  0.292695  \n",
            "DiabetesPedigreeFunction  0.033561  0.173844  \n",
            "Age                       1.000000  0.238356  \n",
            "Outcome                   0.238356  1.000000  \n"
          ]
        }
      ]
    },
    {
      "cell_type": "code",
      "source": [
        "# plotting using seaborn\n",
        "\n",
        "sns.heatmap(corr,xticklabels=corr.columns,yticklabels=corr.columns)"
      ],
      "metadata": {
        "colab": {
          "base_uri": "https://localhost:8080/",
          "height": 407
        },
        "id": "Mp_G74bI-MfF",
        "outputId": "d6a6d379-7d77-42bf-e522-085ae9a4994d"
      },
      "execution_count": null,
      "outputs": [
        {
          "output_type": "execute_result",
          "data": {
            "text/plain": [
              "<matplotlib.axes._subplots.AxesSubplot at 0x7f1c2db6b4d0>"
            ]
          },
          "metadata": {},
          "execution_count": 12
        },
        {
          "output_type": "display_data",
          "data": {
            "text/plain": [
              "<Figure size 432x288 with 2 Axes>"
            ],
            "image/png": "[encoded data removed]"
          },
          "metadata": {
            "needs_background": "light"
          }
        }
      ]
    },
    {
      "cell_type": "code",
      "source": [
        "diabetic_2 = df.select('Glucose', 'Outcome').filter(df.Glucose > 120.89) # -> all people with Glucose more than the mean (diabetic 1)\n",
        "diabetic_1 = df.select('Glucose', 'Outcome').filter(df.Glucose > 100) # -> all people with Glucose between 100 and 120 (diabetic 2)\n",
        "diabetic_1 = df.select('Glucose', 'Outcome').filter(df.Glucose < 120)\n",
        "\n",
        "diab2 = diabetic_2.filter(diabetic_2.Outcome == 1).count()\n",
        "diab1 = diabetic_1.filter(diabetic_1.Outcome == 1).count()\n",
        "\n",
        "print(\"People that suffer diabetic 2 : \" + str(diab2))\n",
        "print(\"People that suffer diabetic 1 : \" + str(diab1))"
      ],
      "metadata": {
        "colab": {
          "base_uri": "https://localhost:8080/"
        },
        "id": "95vEZh_L_ulE",
        "outputId": "b9a5e80c-41ed-4f5f-a55f-1f016cbe6ef7"
      },
      "execution_count": 31,
      "outputs": [
        {
          "output_type": "stream",
          "name": "stdout",
          "text": [
            "People that suffer diabetic 2 : 195\n",
            "People that suffer diabetic 1 : 70\n"
          ]
        }
      ]
    },
    {
      "cell_type": "code",
      "source": [
        "preg = df.select('Pregnancies','Glucose','Outcome').filter(df.Pregnancies == 0)\n",
        "preg = preg.filter(preg.Glucose > 125).where(preg.Outcome == 1).count()\n",
        "\n",
        "print(\"People with 0 pregnancies also above 125mg/DL Glucose and suffers diabetic : \" + str(preg))"
      ],
      "metadata": {
        "colab": {
          "base_uri": "https://localhost:8080/"
        },
        "id": "_sBmfcGDbhgo",
        "outputId": "3b494de2-4b1e-4c57-9a4f-1214833d655b"
      },
      "execution_count": 50,
      "outputs": [
        {
          "output_type": "stream",
          "name": "stdout",
          "text": [
            "People with 0 pregnancies also above 125mg/DL Glucose and suffers diabetic : 27\n"
          ]
        }
      ]
    },
    {
      "cell_type": "code",
      "source": [
        "gestasional = df.select('Pregnancies','Glucose','BMI','Age','Outcome').where(df.Glucose < 100)\n",
        "gestasional = gestasional.filter(gestasional.Pregnancies > 1).where(gestasional.Outcome == 1).count()\n",
        "\n",
        "print(\"People who probably have gestasional diabetic (happens when pregnancy) but have less than 100mg/DL Glucose : \" + str(gestasional))"
      ],
      "metadata": {
        "colab": {
          "base_uri": "https://localhost:8080/"
        },
        "id": "4GLGRfc2meVm",
        "outputId": "19237103-9b11-4618-9575-3c990cce0911"
      },
      "execution_count": 67,
      "outputs": [
        {
          "output_type": "stream",
          "name": "stdout",
          "text": [
            "People who probably have gestasional diabetic (happens when pregnancy) but have less than 100mg/DL Glucose : 13\n"
          ]
        }
      ]
    },
    {
      "cell_type": "code",
      "source": [
        "# converting collumns into vector datatype -> for women (bcs include pregnancies)\n",
        "from pyspark.ml.feature import VectorAssembler\n",
        "\n",
        "df.printSchema()\n",
        "\n",
        "newFeatures = VectorAssembler(inputCols=['Pregnancies','Glucose','BMI','Age'],outputCol=\"Womenfeatures\")\n",
        "df = newFeatures.transform(df)\n",
        "\n",
        "allFeatures = VectorAssembler(inputCols=['Pregnancies','Glucose','BloodPressure','SkinThickness','Insulin','BMI','DiabetesPedigreeFunction','Age'],outputCol=\"Allfeatures\")\n",
        "df = allFeatures.transform(df)\n",
        "\n",
        "noPregnant = VectorAssembler(inputCols=['Glucose','BMI','Age'],outputCol=\"featuresNoPreg\")\n",
        "df = noPregnant.transform(df)\n",
        "\n",
        "noGlucose = VectorAssembler(inputCols=['Pregnancies','BMI','Age'],outputCol=\"featuresNoGluc\")\n",
        "df = noGlucose.transform(df)\n",
        "\n",
        "noBMI = VectorAssembler(inputCols=['Pregnancies','Glucose','Age'],outputCol=\"featuresNoBMI\")\n",
        "df = noBMI.transform(df)\n",
        "\n",
        "noAge = VectorAssembler(inputCols=['Pregnancies','Glucose','BMI'],outputCol=\"featuresNoAge\")\n",
        "df = noAge.transform(df)\n",
        "\n",
        "df.printSchema()\n",
        "df['Pregnancies','Glucose','BMI','Age','WomenFeatures','Allfeatures'].show(5)"
      ],
      "metadata": {
        "colab": {
          "base_uri": "https://localhost:8080/"
        },
        "id": "Lxh5CWX4Jrjc",
        "outputId": "0d97cb5b-3015-4116-9753-c754d1997fab"
      },
      "execution_count": 73,
      "outputs": [
        {
          "output_type": "stream",
          "name": "stdout",
          "text": [
            "root\n",
            " |-- Pregnancies: integer (nullable = true)\n",
            " |-- Glucose: integer (nullable = true)\n",
            " |-- BloodPressure: integer (nullable = true)\n",
            " |-- SkinThickness: integer (nullable = true)\n",
            " |-- Insulin: integer (nullable = true)\n",
            " |-- BMI: double (nullable = true)\n",
            " |-- DiabetesPedigreeFunction: float (nullable = true)\n",
            " |-- Age: integer (nullable = true)\n",
            " |-- Outcome: integer (nullable = true)\n",
            "\n",
            "root\n",
            " |-- Pregnancies: integer (nullable = true)\n",
            " |-- Glucose: integer (nullable = true)\n",
            " |-- BloodPressure: integer (nullable = true)\n",
            " |-- SkinThickness: integer (nullable = true)\n",
            " |-- Insulin: integer (nullable = true)\n",
            " |-- BMI: double (nullable = true)\n",
            " |-- DiabetesPedigreeFunction: float (nullable = true)\n",
            " |-- Age: integer (nullable = true)\n",
            " |-- Outcome: integer (nullable = true)\n",
            " |-- Womenfeatures: vector (nullable = true)\n",
            " |-- Allfeatures: vector (nullable = true)\n",
            " |-- featuresNoPreg: vector (nullable = true)\n",
            " |-- featuresNoGluc: vector (nullable = true)\n",
            " |-- featuresNoBMI: vector (nullable = true)\n",
            " |-- featuresNoAge: vector (nullable = true)\n",
            "\n",
            "+-----------+-------+----+---+--------------------+--------------------+\n",
            "|Pregnancies|Glucose| BMI|Age|       WomenFeatures|         Allfeatures|\n",
            "+-----------+-------+----+---+--------------------+--------------------+\n",
            "|          6|    148|33.6| 50|[6.0,148.0,33.6,5...|[6.0,148.0,72.0,3...|\n",
            "|          1|     85|26.6| 31|[1.0,85.0,26.6,31.0]|[1.0,85.0,66.0,29...|\n",
            "|          8|    183|23.3| 32|[8.0,183.0,23.3,3...|[8.0,183.0,64.0,0...|\n",
            "|          1|     89|28.1| 21|[1.0,89.0,28.1,21.0]|[1.0,89.0,66.0,23...|\n",
            "|          0|    137|43.1| 33|[0.0,137.0,43.1,3...|[0.0,137.0,40.0,3...|\n",
            "+-----------+-------+----+---+--------------------+--------------------+\n",
            "only showing top 5 rows\n",
            "\n"
          ]
        }
      ]
    },
    {
      "cell_type": "code",
      "source": [
        "# main code (with 4 features)\n",
        "\n",
        "# importing libraries for gbt\n",
        "import pyspark.ml\n",
        "from pyspark.ml import Pipeline\n",
        "from pyspark.ml.classification import GBTClassifier\n",
        "from pyspark.ml.feature import StringIndexer, VectorIndexer\n",
        "from pyspark.ml.evaluation import MulticlassClassificationEvaluator\n",
        "\n",
        "labelIndexers = [StringIndexer(inputCol=column, outputCol=column+\"_index\").fit(df) for column in ['Pregnancies','Glucose','BMI','Age']]\n",
        "\n",
        "(trainingData, testData) = df.randomSplit([0.7, 0.3], seed = 11)\n",
        "\n",
        "#Chain indexers and GBT in a Pipeline\n",
        "pipeline = Pipeline(stages=labelIndexers)\n",
        "\n",
        "# Train a GBT model.\n",
        "gbt = GBTClassifier(labelCol=\"Outcome\", featuresCol=\"Womenfeatures\", maxIter=10)\n",
        "\n",
        "# Train model.  This also runs the indexers.\n",
        "model = gbt.fit(trainingData)\n",
        "\n",
        "# Make predictions.\n",
        "predictions = model.transform(testData)\n",
        "\n",
        "# Select example rows to display.\n",
        "predictions.select(\"prediction\", \"Outcome\", \"Womenfeatures\").show()\n",
        "\n",
        "# Select (prediction, true label) and compute test error\n",
        "evaluator = MulticlassClassificationEvaluator(labelCol=\"Outcome\", predictionCol=\"prediction\", metricName=\"accuracy\")\n",
        "accuracy = evaluator.evaluate(predictions)\n",
        "\n",
        "print(\"Accuracy of Gradient-boosted tree classifie is = %g\"% (accuracy))\n",
        "print(\"Test Error of Gradient-boosted tree classifier %g\"% (1.0 - accuracy))"
      ],
      "metadata": {
        "colab": {
          "base_uri": "https://localhost:8080/"
        },
        "id": "CNKqAUD54yMS",
        "outputId": "01e4a632-d298-4e6b-8915-dc7c5aa8d9c2"
      },
      "execution_count": 47,
      "outputs": [
        {
          "output_type": "stream",
          "name": "stdout",
          "text": [
            "+----------+-------+--------------------+\n",
            "|prediction|Outcome|       Womenfeatures|\n",
            "+----------+-------+--------------------+\n",
            "|       0.0|      0|[0.0,84.0,35.8,21.0]|\n",
            "|       0.0|      0|[0.0,84.0,38.2,23.0]|\n",
            "|       0.0|      0|[0.0,93.0,28.7,22.0]|\n",
            "|       0.0|      0|[0.0,93.0,43.4,35.0]|\n",
            "|       0.0|      0| [0.0,94.0,0.0,25.0]|\n",
            "|       0.0|      0|[0.0,94.0,43.5,21.0]|\n",
            "|       0.0|      0|[0.0,95.0,36.5,26.0]|\n",
            "|       0.0|      1|[0.0,95.0,37.4,24.0]|\n",
            "|       0.0|      0|[0.0,100.0,30.8,2...|\n",
            "|       0.0|      0|[0.0,102.0,25.1,2...|\n",
            "|       0.0|      0|[0.0,102.0,0.0,21.0]|\n",
            "|       0.0|      0|[0.0,104.0,27.8,2...|\n",
            "|       0.0|      0|[0.0,104.0,18.4,2...|\n",
            "|       0.0|      1|[0.0,105.0,27.9,6...|\n",
            "|       0.0|      0|[0.0,105.0,29.6,4...|\n",
            "|       0.0|      0|[0.0,106.0,39.4,2...|\n",
            "|       0.0|      0|[0.0,113.0,31.0,2...|\n",
            "|       0.0|      0|[0.0,117.0,45.2,2...|\n",
            "|       1.0|      1|[0.0,118.0,45.8,3...|\n",
            "|       0.0|      1|[0.0,123.0,36.3,5...|\n",
            "+----------+-------+--------------------+\n",
            "only showing top 20 rows\n",
            "\n",
            "Accuracy of Gradient-boosted tree classifie is = 0.720721\n",
            "Test Error of Gradient-boosted tree classifier 0.279279\n"
          ]
        }
      ]
    },
    {
      "cell_type": "code",
      "source": [
        "# main code all features\n",
        "\n",
        "import pyspark.ml\n",
        "from pyspark.ml import Pipeline\n",
        "from pyspark.ml.classification import GBTClassifier\n",
        "from pyspark.ml.feature import StringIndexer, VectorIndexer\n",
        "from pyspark.ml.evaluation import MulticlassClassificationEvaluator\n",
        "\n",
        "labelIndexers = [StringIndexer(inputCol=column, outputCol=column+\"_index\").fit(df) for column in ['Pregnancies','Glucose','BloodPressure','SkinThickness','Insulin','BMI','DiabetesPedigreeFunction','Age']]\n",
        "\n",
        "(trainingData, testData) = df.randomSplit([0.7, 0.3], seed = 11)\n",
        "\n",
        "#Chain indexers and GBT in a Pipeline\n",
        "pipeline = Pipeline(stages=labelIndexers)\n",
        "\n",
        "# Train a GBT model.\n",
        "gbt = GBTClassifier(labelCol=\"Outcome\", featuresCol=\"Allfeatures\", maxIter=10)\n",
        "\n",
        "# Train model.  This also runs the indexers.\n",
        "model = gbt.fit(trainingData)\n",
        "\n",
        "# Make predictions.\n",
        "predictions = model.transform(testData)\n",
        "\n",
        "# Select example rows to display.\n",
        "predictions.select(\"prediction\", \"Outcome\", \"Allfeatures\").show()\n",
        "\n",
        "# Select (prediction, true label) and compute test error\n",
        "evaluator = MulticlassClassificationEvaluator(labelCol=\"Outcome\", predictionCol=\"prediction\", metricName=\"accuracy\")\n",
        "accuracy = evaluator.evaluate(predictions)\n",
        "\n",
        "print(\"Accuracy of Gradient-boosted tree classifie is = %g\"% (accuracy))\n",
        "print(\"Test Error of Gradient-boosted tree classifier %g\"% (1.0 - accuracy))"
      ],
      "metadata": {
        "colab": {
          "base_uri": "https://localhost:8080/"
        },
        "id": "No7jbrGW7zZY",
        "outputId": "9943205e-4cd5-43d0-e0e5-bf60283853dd"
      },
      "execution_count": 48,
      "outputs": [
        {
          "output_type": "stream",
          "name": "stdout",
          "text": [
            "+----------+-------+--------------------+\n",
            "|prediction|Outcome|         Allfeatures|\n",
            "+----------+-------+--------------------+\n",
            "|       0.0|      0|[0.0,84.0,64.0,22...|\n",
            "|       0.0|      0|[0.0,84.0,82.0,31...|\n",
            "|       0.0|      0|[0.0,93.0,60.0,25...|\n",
            "|       0.0|      0|[0.0,93.0,100.0,3...|\n",
            "|       0.0|      0|(8,[1,6,7],[94.0,...|\n",
            "|       0.0|      0|[0.0,94.0,70.0,27...|\n",
            "|       0.0|      0|[0.0,95.0,80.0,45...|\n",
            "|       0.0|      1|[0.0,95.0,85.0,25...|\n",
            "|       0.0|      0|[0.0,100.0,70.0,2...|\n",
            "|       0.0|      0|[0.0,102.0,52.0,0...|\n",
            "|       0.0|      0|[0.0,102.0,75.0,2...|\n",
            "|       0.0|      0|[0.0,104.0,64.0,2...|\n",
            "|       0.0|      0|[0.0,104.0,76.0,0...|\n",
            "|       1.0|      1|[0.0,105.0,84.0,0...|\n",
            "|       0.0|      0|[0.0,105.0,90.0,0...|\n",
            "|       0.0|      0|[0.0,106.0,70.0,3...|\n",
            "|       0.0|      0|[0.0,113.0,80.0,1...|\n",
            "|       0.0|      0|[0.0,117.0,80.0,3...|\n",
            "|       0.0|      1|[0.0,118.0,84.0,4...|\n",
            "|       0.0|      1|[0.0,123.0,72.0,0...|\n",
            "+----------+-------+--------------------+\n",
            "only showing top 20 rows\n",
            "\n",
            "Accuracy of Gradient-boosted tree classifie is = 0.72973\n",
            "Test Error of Gradient-boosted tree classifier 0.27027\n"
          ]
        }
      ]
    },
    {
      "cell_type": "code",
      "source": [
        "# code without pregnancies\n",
        "\n",
        "import pyspark.ml\n",
        "from pyspark.ml import Pipeline\n",
        "from pyspark.ml.classification import GBTClassifier\n",
        "from pyspark.ml.feature import StringIndexer, VectorIndexer\n",
        "from pyspark.ml.evaluation import MulticlassClassificationEvaluator\n",
        "\n",
        "labelIndexers = [StringIndexer(inputCol=column, outputCol=column+\"_index\").fit(df) for column in ['Glucose','BMI','Age']]\n",
        "\n",
        "(trainingData, testData) = df.randomSplit([0.7, 0.3], seed = 11)\n",
        "\n",
        "#Chain indexers and GBT in a Pipeline\n",
        "pipeline = Pipeline(stages=labelIndexers)\n",
        "\n",
        "# Train a GBT model.\n",
        "gbt = GBTClassifier(labelCol=\"Outcome\", featuresCol=\"featuresNoPreg\", maxIter=10)\n",
        "\n",
        "# Train model.  This also runs the indexers.\n",
        "model = gbt.fit(trainingData)\n",
        "\n",
        "# Make predictions.\n",
        "predictions = model.transform(testData)\n",
        "\n",
        "# Select example rows to display.\n",
        "predictions.select(\"prediction\", \"Outcome\", \"featuresNoPreg\").show()\n",
        "\n",
        "# Select (prediction, true label) and compute test error\n",
        "evaluator = MulticlassClassificationEvaluator(labelCol=\"Outcome\", predictionCol=\"prediction\", metricName=\"accuracy\")\n",
        "accuracy = evaluator.evaluate(predictions)\n",
        "\n",
        "print(\"Accuracy of Gradient-boosted tree classifie is = %g\"% (accuracy))\n",
        "print(\"Test Error of Gradient-boosted tree classifier %g\"% (1.0 - accuracy))"
      ],
      "metadata": {
        "colab": {
          "base_uri": "https://localhost:8080/"
        },
        "id": "PRNjE7WMtR4K",
        "outputId": "27c2f52a-193e-48a2-9b78-06240e2a0e7c"
      },
      "execution_count": 70,
      "outputs": [
        {
          "output_type": "stream",
          "name": "stdout",
          "text": [
            "+----------+-------+-----------------+\n",
            "|prediction|Outcome|   featuresNoPreg|\n",
            "+----------+-------+-----------------+\n",
            "|       0.0|      0| [84.0,35.8,21.0]|\n",
            "|       1.0|      0| [84.0,38.2,23.0]|\n",
            "|       0.0|      0| [93.0,28.7,22.0]|\n",
            "|       0.0|      0| [93.0,43.4,35.0]|\n",
            "|       0.0|      0|  [94.0,0.0,25.0]|\n",
            "|       0.0|      0| [94.0,43.5,21.0]|\n",
            "|       0.0|      0| [95.0,36.5,26.0]|\n",
            "|       0.0|      1| [95.0,37.4,24.0]|\n",
            "|       0.0|      0|[100.0,30.8,21.0]|\n",
            "|       0.0|      0|[102.0,25.1,21.0]|\n",
            "|       0.0|      0| [102.0,0.0,21.0]|\n",
            "|       0.0|      0|[104.0,27.8,23.0]|\n",
            "|       0.0|      0|[104.0,18.4,27.0]|\n",
            "|       0.0|      1|[105.0,27.9,62.0]|\n",
            "|       1.0|      0|[105.0,29.6,46.0]|\n",
            "|       0.0|      0|[106.0,39.4,22.0]|\n",
            "|       0.0|      0|[113.0,31.0,21.0]|\n",
            "|       0.0|      0|[117.0,45.2,24.0]|\n",
            "|       1.0|      1|[118.0,45.8,31.0]|\n",
            "|       1.0|      1|[123.0,36.3,52.0]|\n",
            "+----------+-------+-----------------+\n",
            "only showing top 20 rows\n",
            "\n",
            "Accuracy of Gradient-boosted tree classifie is = 0.684685\n",
            "Test Error of Gradient-boosted tree classifier 0.315315\n"
          ]
        }
      ]
    },
    {
      "cell_type": "code",
      "source": [
        "# code without glucose\n",
        "\n",
        "import pyspark.ml\n",
        "from pyspark.ml import Pipeline\n",
        "from pyspark.ml.classification import GBTClassifier\n",
        "from pyspark.ml.feature import StringIndexer, VectorIndexer\n",
        "from pyspark.ml.evaluation import MulticlassClassificationEvaluator\n",
        "\n",
        "labelIndexers = [StringIndexer(inputCol=column, outputCol=column+\"_index\").fit(df) for column in ['Pregnancies','BMI','Age']]\n",
        "\n",
        "(trainingData, testData) = df.randomSplit([0.7, 0.3], seed = 11)\n",
        "\n",
        "#Chain indexers and GBT in a Pipeline\n",
        "pipeline = Pipeline(stages=labelIndexers)\n",
        "\n",
        "# Train a GBT model.\n",
        "gbt = GBTClassifier(labelCol=\"Outcome\", featuresCol=\"featuresNoGluc\", maxIter=10)\n",
        "\n",
        "# Train model.  This also runs the indexers.\n",
        "model = gbt.fit(trainingData)\n",
        "\n",
        "# Make predictions.\n",
        "predictions = model.transform(testData)\n",
        "\n",
        "# Select example rows to display.\n",
        "predictions.select(\"prediction\", \"Outcome\", \"featuresNoGluc\").show()\n",
        "\n",
        "# Select (prediction, true label) and compute test error\n",
        "evaluator = MulticlassClassificationEvaluator(labelCol=\"Outcome\", predictionCol=\"prediction\", metricName=\"accuracy\")\n",
        "accuracy = evaluator.evaluate(predictions)\n",
        "\n",
        "print(\"Accuracy of Gradient-boosted tree classifie is = %g\"% (accuracy))\n",
        "print(\"Test Error of Gradient-boosted tree classifier %g\"% (1.0 - accuracy))"
      ],
      "metadata": {
        "colab": {
          "base_uri": "https://localhost:8080/"
        },
        "id": "Zgbn7aUxtkAh",
        "outputId": "12f0d30b-3ef7-47e2-c683-8dc6aca4ad15"
      },
      "execution_count": 71,
      "outputs": [
        {
          "output_type": "stream",
          "name": "stdout",
          "text": [
            "+----------+-------+---------------+\n",
            "|prediction|Outcome| featuresNoGluc|\n",
            "+----------+-------+---------------+\n",
            "|       0.0|      0|[0.0,35.8,21.0]|\n",
            "|       0.0|      0|[0.0,38.2,23.0]|\n",
            "|       0.0|      0|[0.0,28.7,22.0]|\n",
            "|       0.0|      0|[0.0,43.4,35.0]|\n",
            "|       0.0|      0| [0.0,0.0,25.0]|\n",
            "|       1.0|      0|[0.0,43.5,21.0]|\n",
            "|       0.0|      0|[0.0,36.5,26.0]|\n",
            "|       0.0|      1|[0.0,37.4,24.0]|\n",
            "|       0.0|      0|[0.0,30.8,21.0]|\n",
            "|       0.0|      0|[0.0,25.1,21.0]|\n",
            "|       0.0|      0| [0.0,0.0,21.0]|\n",
            "|       0.0|      0|[0.0,27.8,23.0]|\n",
            "|       0.0|      0|[0.0,18.4,27.0]|\n",
            "|       0.0|      1|[0.0,27.9,62.0]|\n",
            "|       0.0|      0|[0.0,29.6,46.0]|\n",
            "|       0.0|      0|[0.0,39.4,22.0]|\n",
            "|       0.0|      0|[0.0,31.0,21.0]|\n",
            "|       0.0|      0|[0.0,45.2,24.0]|\n",
            "|       0.0|      1|[0.0,45.8,31.0]|\n",
            "|       0.0|      1|[0.0,36.3,52.0]|\n",
            "+----------+-------+---------------+\n",
            "only showing top 20 rows\n",
            "\n",
            "Accuracy of Gradient-boosted tree classifie is = 0.68018\n",
            "Test Error of Gradient-boosted tree classifier 0.31982\n"
          ]
        }
      ]
    },
    {
      "cell_type": "code",
      "source": [
        "# code without BMI\n",
        "\n",
        "import pyspark.ml\n",
        "from pyspark.ml import Pipeline\n",
        "from pyspark.ml.classification import GBTClassifier\n",
        "from pyspark.ml.feature import StringIndexer, VectorIndexer\n",
        "from pyspark.ml.evaluation import MulticlassClassificationEvaluator\n",
        "\n",
        "labelIndexers = [StringIndexer(inputCol=column, outputCol=column+\"_index\").fit(df) for column in ['Pregnancies','Glucose','Age']]\n",
        "\n",
        "(trainingData, testData) = df.randomSplit([0.7, 0.3], seed = 11)\n",
        "\n",
        "#Chain indexers and GBT in a Pipeline\n",
        "pipeline = Pipeline(stages=labelIndexers)\n",
        "\n",
        "# Train a GBT model.\n",
        "gbt = GBTClassifier(labelCol=\"Outcome\", featuresCol=\"featuresNoBMI\", maxIter=10)\n",
        "\n",
        "# Train model.  This also runs the indexers.\n",
        "model = gbt.fit(trainingData)\n",
        "\n",
        "# Make predictions.\n",
        "predictions = model.transform(testData)\n",
        "\n",
        "# Select example rows to display.\n",
        "predictions.select(\"prediction\", \"Outcome\", \"featuresNoBMI\").show()\n",
        "\n",
        "# Select (prediction, true label) and compute test error\n",
        "evaluator = MulticlassClassificationEvaluator(labelCol=\"Outcome\", predictionCol=\"prediction\", metricName=\"accuracy\")\n",
        "accuracy = evaluator.evaluate(predictions)\n",
        "\n",
        "print(\"Accuracy of Gradient-boosted tree classifie is = %g\"% (accuracy))\n",
        "print(\"Test Error of Gradient-boosted tree classifier %g\"% (1.0 - accuracy))"
      ],
      "metadata": {
        "colab": {
          "base_uri": "https://localhost:8080/"
        },
        "id": "fJkVJ2EkuzhB",
        "outputId": "3dbfa14d-a815-46d2-8a2e-be6f87c32c9b"
      },
      "execution_count": 74,
      "outputs": [
        {
          "output_type": "stream",
          "name": "stdout",
          "text": [
            "+----------+-------+----------------+\n",
            "|prediction|Outcome|   featuresNoBMI|\n",
            "+----------+-------+----------------+\n",
            "|       0.0|      0| [0.0,84.0,21.0]|\n",
            "|       0.0|      0| [0.0,84.0,23.0]|\n",
            "|       0.0|      0| [0.0,93.0,22.0]|\n",
            "|       0.0|      0| [0.0,93.0,35.0]|\n",
            "|       0.0|      0| [0.0,94.0,25.0]|\n",
            "|       0.0|      0| [0.0,94.0,21.0]|\n",
            "|       0.0|      0| [0.0,95.0,26.0]|\n",
            "|       0.0|      1| [0.0,95.0,24.0]|\n",
            "|       0.0|      0|[0.0,100.0,21.0]|\n",
            "|       0.0|      0|[0.0,102.0,21.0]|\n",
            "|       0.0|      0|[0.0,102.0,21.0]|\n",
            "|       0.0|      0|[0.0,104.0,23.0]|\n",
            "|       0.0|      0|[0.0,104.0,27.0]|\n",
            "|       0.0|      1|[0.0,105.0,62.0]|\n",
            "|       0.0|      0|[0.0,105.0,46.0]|\n",
            "|       0.0|      0|[0.0,106.0,22.0]|\n",
            "|       0.0|      0|[0.0,113.0,21.0]|\n",
            "|       0.0|      0|[0.0,117.0,24.0]|\n",
            "|       0.0|      1|[0.0,118.0,31.0]|\n",
            "|       0.0|      1|[0.0,123.0,52.0]|\n",
            "+----------+-------+----------------+\n",
            "only showing top 20 rows\n",
            "\n",
            "Accuracy of Gradient-boosted tree classifie is = 0.711712\n",
            "Test Error of Gradient-boosted tree classifier 0.288288\n"
          ]
        }
      ]
    },
    {
      "cell_type": "markdown",
      "source": [
        "Perbandingan accuracy dari 4 features yang telah dipilih dengan seluruh features adalah -> 72.0% : 72.9%\n",
        "\n",
        "sedangkan jika kolom Glucose atau Pregnancies dihilangkan, accuracy turun -> 68%\n",
        "ini menandakan kolom Glucose dan Pregnancies sangat berpengaruh dalam menentukan seorang wanita mengidap diabetes"
      ],
      "metadata": {
        "id": "I2via22ysLN7"
      }
    },
    {
      "cell_type": "code",
      "source": [
        "# code without age\n",
        "\n",
        "import pyspark.ml\n",
        "from pyspark.ml import Pipeline\n",
        "from pyspark.ml.classification import GBTClassifier\n",
        "from pyspark.ml.feature import StringIndexer, VectorIndexer\n",
        "from pyspark.ml.evaluation import MulticlassClassificationEvaluator\n",
        "\n",
        "labelIndexers = [StringIndexer(inputCol=column, outputCol=column+\"_index\").fit(df) for column in ['Pregnancies','Glucose','BMI']]\n",
        "\n",
        "(trainingData, testData) = df.randomSplit([0.7, 0.3], seed = 11)\n",
        "\n",
        "#Chain indexers and GBT in a Pipeline\n",
        "pipeline = Pipeline(stages=labelIndexers)\n",
        "\n",
        "# Train a GBT model.\n",
        "gbt = GBTClassifier(labelCol=\"Outcome\", featuresCol=\"featuresNoAge\", maxIter=10)\n",
        "\n",
        "# Train model.  This also runs the indexers.\n",
        "model = gbt.fit(trainingData)\n",
        "\n",
        "# Make predictions.\n",
        "predictions = model.transform(testData)\n",
        "\n",
        "# Select example rows to display.\n",
        "predictions.select(\"prediction\", \"Outcome\", \"featuresNoAge\").show()\n",
        "\n",
        "# Select (prediction, true label) and compute test error\n",
        "evaluator = MulticlassClassificationEvaluator(labelCol=\"Outcome\", predictionCol=\"prediction\", metricName=\"accuracy\")\n",
        "accuracy = evaluator.evaluate(predictions)\n",
        "\n",
        "print(\"Accuracy of Gradient-boosted tree classifie is = %g\"% (accuracy))\n",
        "print(\"Test Error of Gradient-boosted tree classifier %g\"% (1.0 - accuracy))"
      ],
      "metadata": {
        "colab": {
          "base_uri": "https://localhost:8080/"
        },
        "id": "RxGSTzrYvBdw",
        "outputId": "cec1fac4-157e-42f1-9a32-b67c9a5761cb"
      },
      "execution_count": 75,
      "outputs": [
        {
          "output_type": "stream",
          "name": "stdout",
          "text": [
            "+----------+-------+----------------+\n",
            "|prediction|Outcome|   featuresNoAge|\n",
            "+----------+-------+----------------+\n",
            "|       0.0|      0| [0.0,84.0,35.8]|\n",
            "|       0.0|      0| [0.0,84.0,38.2]|\n",
            "|       0.0|      0| [0.0,93.0,28.7]|\n",
            "|       0.0|      0| [0.0,93.0,43.4]|\n",
            "|       0.0|      0|  [0.0,94.0,0.0]|\n",
            "|       0.0|      0| [0.0,94.0,43.5]|\n",
            "|       0.0|      0| [0.0,95.0,36.5]|\n",
            "|       0.0|      1| [0.0,95.0,37.4]|\n",
            "|       0.0|      0|[0.0,100.0,30.8]|\n",
            "|       0.0|      0|[0.0,102.0,25.1]|\n",
            "|       0.0|      0| [0.0,102.0,0.0]|\n",
            "|       0.0|      0|[0.0,104.0,27.8]|\n",
            "|       0.0|      0|[0.0,104.0,18.4]|\n",
            "|       0.0|      1|[0.0,105.0,27.9]|\n",
            "|       0.0|      0|[0.0,105.0,29.6]|\n",
            "|       0.0|      0|[0.0,106.0,39.4]|\n",
            "|       0.0|      0|[0.0,113.0,31.0]|\n",
            "|       0.0|      0|[0.0,117.0,45.2]|\n",
            "|       0.0|      1|[0.0,118.0,45.8]|\n",
            "|       0.0|      1|[0.0,123.0,36.3]|\n",
            "+----------+-------+----------------+\n",
            "only showing top 20 rows\n",
            "\n",
            "Accuracy of Gradient-boosted tree classifie is = 0.711712\n",
            "Test Error of Gradient-boosted tree classifier 0.288288\n"
          ]
        }
      ]
    },
    {
      "cell_type": "code",
      "source": [
        "# dropping the collumns we dont need or reset some collumn\n",
        "\n",
        "df = df.drop(col(\"Womenfeatures\"))\n",
        "df = df.drop(col(\"Allfeatures\"))\n",
        "df = df.drop(col(\"featuresNoPreg\"))\n",
        "df = df.drop(col(\"featuresNoGluc\"))\n",
        "df.printSchema()"
      ],
      "metadata": {
        "colab": {
          "base_uri": "https://localhost:8080/"
        },
        "id": "hsIn1V24ICqH",
        "outputId": "7dc0497a-74de-4fa4-edf0-02102e538737"
      },
      "execution_count": 72,
      "outputs": [
        {
          "output_type": "stream",
          "name": "stdout",
          "text": [
            "root\n",
            " |-- Pregnancies: integer (nullable = true)\n",
            " |-- Glucose: integer (nullable = true)\n",
            " |-- BloodPressure: integer (nullable = true)\n",
            " |-- SkinThickness: integer (nullable = true)\n",
            " |-- Insulin: integer (nullable = true)\n",
            " |-- BMI: double (nullable = true)\n",
            " |-- DiabetesPedigreeFunction: float (nullable = true)\n",
            " |-- Age: integer (nullable = true)\n",
            " |-- Outcome: integer (nullable = true)\n",
            "\n"
          ]
        }
      ]
    }
  ],
  "metadata": {
    "colab": {
      "name": "Proyek bda.ipynb",
      "provenance": [],
      "collapsed_sections": []
    },
    "kernelspec": {
      "display_name": "Python 3",
      "name": "python3"
    },
    "language_info": {
      "name": "python"
    }
  },
  "nbformat": 4,
  "nbformat_minor": 0
}